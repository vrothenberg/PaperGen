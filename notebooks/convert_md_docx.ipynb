{
 "cells": [
  {
   "cell_type": "code",
   "execution_count": 1,
   "metadata": {},
   "outputs": [
    {
     "name": "stderr",
     "output_type": "stream",
     "text": [
      "x .\n",
      "x ./usr\n",
      "x ./usr/local\n",
      "x ./usr/local/bin\n",
      "x ./usr/local/bin/pandoc\n",
      "x ./usr/local/bin/._pandoc\n",
      "x ./usr/local/bin/pandoc-lua\n",
      "x ./usr/local/bin/pandoc-server\n",
      "x ./usr/local/._bin\n",
      "x ./usr/local/share\n",
      "x ./usr/local/share/man\n",
      "x ./usr/local/share/man/man1\n",
      "x ./usr/local/share/man/man1/pandoc-lua.1\n",
      "x ./usr/local/share/man/man1/._pandoc-lua.1\n",
      "x ./usr/local/share/man/man1/pandoc-server.1\n",
      "x ./usr/local/share/man/man1/._pandoc-server.1\n",
      "x ./usr/local/share/man/man1/pandoc.1\n",
      "x ./usr/local/share/man/man1/._pandoc.1\n",
      "x ./usr/local/share/man/._man1\n",
      "x ./usr/local/share/._man\n",
      "x ./usr/local/._share\n",
      "x ./usr/._local\n",
      "x ./._usr\n"
     ]
    }
   ],
   "source": [
    "import pypandoc\n",
    "\n",
    "pypandoc.download_pandoc()\n",
    "\n",
    "\n",
    "def convert_md_to_docx(md_file: str, docx_file: str):\n",
    "    \"\"\"\n",
    "    Convert a Markdown file to a DOCX file using Pandoc.\n",
    "\n",
    "    Args:\n",
    "        md_file (str): Path to the Markdown file.\n",
    "        docx_file (str): Path to save the DOCX file.\n",
    "    \"\"\"\n",
    "    try:\n",
    "        output = pypandoc.convert_file(md_file, 'docx', outputfile=docx_file)\n",
    "        print(f\"Conversion successful! DOCX saved at: {docx_file}\")\n",
    "    except Exception as e:\n",
    "        print(f\"Error during conversion: {e}\")\n",
    "\n"
   ]
  },
  {
   "cell_type": "code",
   "execution_count": null,
   "metadata": {},
   "outputs": [],
   "source": []
  },
  {
   "cell_type": "code",
   "execution_count": 4,
   "metadata": {},
   "outputs": [
    {
     "name": "stdout",
     "output_type": "stream",
     "text": [
      "/Users/vince/Salk/PaperGeneration/data/docx_files/Sleep_Apnea_final_20241209_155105.docx\n",
      "Conversion successful! DOCX saved at: /Users/vince/Salk/PaperGeneration/data/docx_files/Sleep_Apnea_final_20241209_155105.docx\n",
      "/Users/vince/Salk/PaperGeneration/data/docx_files/Age-Related_Macular_Degeneration_(AMD)_final_20241209_155325.docx\n",
      "Conversion successful! DOCX saved at: /Users/vince/Salk/PaperGeneration/data/docx_files/Age-Related_Macular_Degeneration_(AMD)_final_20241209_155325.docx\n",
      "/Users/vince/Salk/PaperGeneration/data/docx_files/Type_2_diabetes_final_20241209_155342.docx\n",
      "Conversion successful! DOCX saved at: /Users/vince/Salk/PaperGeneration/data/docx_files/Type_2_diabetes_final_20241209_155342.docx\n",
      "/Users/vince/Salk/PaperGeneration/data/docx_files/Gout_final_20241209_155237.docx\n",
      "Conversion successful! DOCX saved at: /Users/vince/Salk/PaperGeneration/data/docx_files/Gout_final_20241209_155237.docx\n",
      "/Users/vince/Salk/PaperGeneration/data/docx_files/Chronic_Obstructive_Pulmonary_Disease_(COPD)_final_20241209_155258.docx\n",
      "Conversion successful! DOCX saved at: /Users/vince/Salk/PaperGeneration/data/docx_files/Chronic_Obstructive_Pulmonary_Disease_(COPD)_final_20241209_155258.docx\n"
     ]
    }
   ],
   "source": [
    "import os \n",
    "\n",
    "md_dir = \"/Users/vince/Salk/PaperGeneration/data/md_files\"\n",
    "\n",
    "paths = []\n",
    "for root, dirs, files in os.walk(md_dir):\n",
    "    for file in files:\n",
    "        if file.endswith(\".md\"):\n",
    "            paths.append(os.path.join(root, file))\n",
    "\n",
    "docx_dir = \"/Users/vince/Salk/PaperGeneration/data/docx_files\"\n",
    "\n",
    "for path in paths:\n",
    "    file = path.split('/')[-1].replace('.md', '.docx')\n",
    "    docx_file = f\"{docx_dir}/{file}\"\n",
    "    print(docx_file)\n",
    "    convert_md_to_docx(path, docx_file)"
   ]
  },
  {
   "cell_type": "code",
   "execution_count": null,
   "metadata": {},
   "outputs": [],
   "source": []
  },
  {
   "cell_type": "code",
   "execution_count": null,
   "metadata": {},
   "outputs": [],
   "source": []
  }
 ],
 "metadata": {
  "kernelspec": {
   "display_name": "papergen",
   "language": "python",
   "name": "python3"
  },
  "language_info": {
   "codemirror_mode": {
    "name": "ipython",
    "version": 3
   },
   "file_extension": ".py",
   "mimetype": "text/x-python",
   "name": "python",
   "nbconvert_exporter": "python",
   "pygments_lexer": "ipython3",
   "version": "3.12.7"
  }
 },
 "nbformat": 4,
 "nbformat_minor": 2
}
